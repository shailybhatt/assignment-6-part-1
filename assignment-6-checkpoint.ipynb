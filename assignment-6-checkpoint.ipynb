{
 "cells": [
  {
   "cell_type": "code",
   "execution_count": 16,
   "id": "c45ad967",
   "metadata": {},
   "outputs": [],
   "source": [
    "# create a dictionary of any 7 indian states and their capitals\n",
    "\n",
    "import json\n",
    "\n",
    "dict = {\n",
    "    \"maharashtra\" : \"mumbai\" ,\n",
    "    \"tamil nadu\" : \"chennai\" ,\n",
    "    \"uttar pradesh\" : \"lucknow\" ,\n",
    "    \"gujarat\" : \"gandhinagar\" ,\n",
    "    \"uttarakhand\" : \"dehradun\" ,\n",
    "    \"rajasthan\" : \"jaipur\" ,\n",
    "    \"karnataka\" : \"bengaluru\"\n",
    "}\n",
    "\n",
    "with open(\"indian_states.json\",'w') as file :\n",
    "    json_object = json.dumps(dict,indent=7)\n",
    "    file.write(json_object)"
   ]
  },
  {
   "cell_type": "code",
   "execution_count": 17,
   "id": "85c62ea0",
   "metadata": {},
   "outputs": [
    {
     "name": "stdout",
     "output_type": "stream",
     "text": [
      "name of the bulldog is oscar\n",
      "name of the dog is simba\n",
      "age of the dog is 2\n",
      "coat color of the dog is brown\n"
     ]
    }
   ],
   "source": [
    "# create a class named dog\n",
    "\n",
    "class dog :\n",
    "    def __init__(self,name,age,coat_color) :\n",
    "        self.name = name\n",
    "        self.age = age\n",
    "        self.coat_color = coat_color\n",
    "        \n",
    "    def description(self) :\n",
    "        print(f'name of the dog is {self.name}\\nage of the dog is {self.age}')\n",
    "        \n",
    "    def get_info(self) :\n",
    "        print(f'coat color of the dog is {self.coat_color}')\n",
    "        \n",
    "class jackrussellterrier(dog) :\n",
    "    def __init__(self,name,age,coat_color) :\n",
    "        super().__init__(name,age,coat_color)\n",
    "        \n",
    "    def get_name(self) :\n",
    "        print(\"name of the jackrussellterrier is\",self.name)\n",
    "        \n",
    "    def get_age(self) :\n",
    "        print(\"age of the jackrussellterrier is\",self.age)   \n",
    "        \n",
    "    def get_coat(self) :\n",
    "        print(\"coat color of the jackrussellterrier is\",self.coat_color)         \n",
    "        \n",
    "        \n",
    "class bulldog(dog) :\n",
    "    def __init__(self,name,age,coat_color) :\n",
    "         super().__init__(name,age,coat_color)\n",
    "        \n",
    "    def get_name(self) :\n",
    "        print(\"name of the bulldog is\",self.name)\n",
    "        \n",
    "    def get_age(self) :\n",
    "        print(\"age of the bulldog is\",self.age)    \n",
    "        \n",
    "    def get_coat(self) :\n",
    "        print(\"coat color of the bulldog is\",self.coat_color)   \n",
    "        \n",
    "obj1 = bulldog('oscar', 1 , \"brown\")\n",
    "obj2 = jackrussellterrier('simba', 2 , \"golden\")\n",
    "        \n",
    "obj1.get_name()\n",
    "obj2.description()\n",
    "obj1.get_info()\n",
    "        "
   ]
  }
 ],
 "metadata": {
  "kernelspec": {
   "display_name": "Python 3 (ipykernel)",
   "language": "python",
   "name": "python3"
  },
  "language_info": {
   "codemirror_mode": {
    "name": "ipython",
    "version": 3
   },
   "file_extension": ".py",
   "mimetype": "text/x-python",
   "name": "python",
   "nbconvert_exporter": "python",
   "pygments_lexer": "ipython3",
   "version": "3.9.13"
  }
 },
 "nbformat": 4,
 "nbformat_minor": 5
}
